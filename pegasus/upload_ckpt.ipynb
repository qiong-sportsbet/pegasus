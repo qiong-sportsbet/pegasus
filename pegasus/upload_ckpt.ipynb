{
 "cells": [
  {
   "cell_type": "code",
   "execution_count": 2,
   "metadata": {},
   "outputs": [],
   "source": [
    "import sagemaker"
   ]
  },
  {
   "cell_type": "code",
   "execution_count": 3,
   "metadata": {},
   "outputs": [],
   "source": [
    "my_bucket = 'datascienceworkspace-train-ap-southeast-2-1c2p02d5zjv4'\n",
    "local_path = 'ckpt/'\n",
    "s3_prefix = 'pegasus/ckpt'"
   ]
  },
  {
   "cell_type": "code",
   "execution_count": 4,
   "metadata": {},
   "outputs": [
    {
     "name": "stdout",
     "output_type": "stream",
     "text": [
      "ckpt\n",
      "CONTRIBUTING.md\n",
      "create_dataset.ipynb\n",
      "gpu_monitor.ipynb\n",
      "human_eval\n",
      "LICENSE\n",
      "output.csv\n",
      "pegasus\n",
      "pegasus.egg-info\n",
      "README.md\n",
      "requirements.txt\n",
      "setup.py\n",
      "upload_ckpt.ipynb\n"
     ]
    }
   ],
   "source": [
    "%%bash\n",
    "ls"
   ]
  },
  {
   "cell_type": "code",
   "execution_count": null,
   "metadata": {},
   "outputs": [],
   "source": [
    "s3_path_to_data = sagemaker.Session().upload_data(bucket=my_bucket, \n",
    "                                                  path=local_path, \n",
    "                                                  key_prefix=s3_prefix,\n",
    "                                                  extra_args={'ServerSideEncryption':'aws:kms',\n",
    "                                                              'SSEKMSKeyId':'arn:aws:kms:ap-southeast-2:518671737890:key/59bb7ff7-946f-449b-bee9-558b2d3cdc31'})"
   ]
  }
 ],
 "metadata": {
  "kernelspec": {
   "display_name": "conda_python3",
   "language": "python",
   "name": "conda_python3"
  },
  "language_info": {
   "codemirror_mode": {
    "name": "ipython",
    "version": 3
   },
   "file_extension": ".py",
   "mimetype": "text/x-python",
   "name": "python",
   "nbconvert_exporter": "python",
   "pygments_lexer": "ipython3",
   "version": "3.6.10"
  }
 },
 "nbformat": 4,
 "nbformat_minor": 4
}

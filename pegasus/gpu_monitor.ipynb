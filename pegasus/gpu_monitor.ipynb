{
 "cells": [
  {
   "cell_type": "code",
   "execution_count": null,
   "metadata": {},
   "outputs": [
    {
     "name": "stdout",
     "output_type": "stream",
     "text": [
      "gpu: 95%, gpu-mem: 30%\n",
      "gpu: 96%, gpu-mem: 29%\n",
      "gpu: 95%, gpu-mem: 29%\n",
      "gpu: 95%, gpu-mem: 29%\n",
      "gpu: 95%, gpu-mem: 30%\n",
      "gpu: 95%, gpu-mem: 30%\n",
      "gpu: 96%, gpu-mem: 30%\n",
      "gpu: 94%, gpu-mem: 30%\n",
      "gpu: 95%, gpu-mem: 28%\n",
      "gpu: 96%, gpu-mem: 28%\n",
      "gpu: 95%, gpu-mem: 29%\n",
      "gpu: 96%, gpu-mem: 29%\n",
      "gpu: 96%, gpu-mem: 30%\n",
      "gpu: 95%, gpu-mem: 30%\n",
      "gpu: 95%, gpu-mem: 30%\n",
      "gpu: 95%, gpu-mem: 30%\n",
      "gpu: 95%, gpu-mem: 31%\n",
      "gpu: 95%, gpu-mem: 30%\n",
      "gpu: 96%, gpu-mem: 29%\n",
      "gpu: 94%, gpu-mem: 30%\n",
      "gpu: 94%, gpu-mem: 30%\n",
      "gpu: 96%, gpu-mem: 29%\n",
      "gpu: 95%, gpu-mem: 31%\n",
      "gpu: 95%, gpu-mem: 29%\n",
      "gpu: 93%, gpu-mem: 30%\n",
      "gpu: 95%, gpu-mem: 30%\n",
      "gpu: 96%, gpu-mem: 29%\n",
      "gpu: 95%, gpu-mem: 30%\n",
      "gpu: 95%, gpu-mem: 31%\n",
      "gpu: 95%, gpu-mem: 29%\n",
      "gpu: 95%, gpu-mem: 30%\n",
      "gpu: 95%, gpu-mem: 30%\n",
      "gpu: 96%, gpu-mem: 29%\n",
      "gpu: 95%, gpu-mem: 30%\n",
      "gpu: 95%, gpu-mem: 30%\n",
      "gpu: 90%, gpu-mem: 28%\n",
      "gpu: 95%, gpu-mem: 30%\n",
      "gpu: 94%, gpu-mem: 30%\n",
      "gpu: 95%, gpu-mem: 30%\n",
      "gpu: 95%, gpu-mem: 30%\n",
      "gpu: 95%, gpu-mem: 30%\n",
      "gpu: 96%, gpu-mem: 29%\n",
      "gpu: 94%, gpu-mem: 30%\n",
      "gpu: 95%, gpu-mem: 30%\n",
      "gpu: 95%, gpu-mem: 30%\n",
      "gpu: 95%, gpu-mem: 30%\n",
      "gpu: 95%, gpu-mem: 29%\n",
      "gpu: 95%, gpu-mem: 30%\n",
      "gpu: 94%, gpu-mem: 31%\n"
     ]
    }
   ],
   "source": [
    "import nvidia_smi\n",
    "from time import sleep\n",
    "\n",
    "nvidia_smi.nvmlInit()\n",
    "handle = nvidia_smi.nvmlDeviceGetHandleByIndex(0)\n",
    "# card id 0 hardcoded here, there is also a call to get all available card ids, so we could iterate\n",
    "\n",
    "while True:\n",
    "    res = nvidia_smi.nvmlDeviceGetUtilizationRates(handle)\n",
    "    print(f'gpu: {res.gpu}%, gpu-mem: {res.memory}%')\n",
    "    sleep(5)"
   ]
  }
 ],
 "metadata": {
  "kernelspec": {
   "display_name": "conda_pytorch_latest_p36",
   "language": "python",
   "name": "conda_pytorch_latest_p36"
  },
  "language_info": {
   "codemirror_mode": {
    "name": "ipython",
    "version": 3
   },
   "file_extension": ".py",
   "mimetype": "text/x-python",
   "name": "python",
   "nbconvert_exporter": "python",
   "pygments_lexer": "ipython3",
   "version": "3.6.10"
  }
 },
 "nbformat": 4,
 "nbformat_minor": 4
}

{
 "cells": [
  {
   "cell_type": "code",
   "execution_count": 1,
   "metadata": {},
   "outputs": [
    {
     "name": "stdout",
     "output_type": "stream",
     "text": [
      "WARNING:tensorflow:From /home/ec2-user/anaconda3/envs/tensorflow_p36/lib/python3.6/site-packages/tensorflow_core/__init__.py:1473: The name tf.estimator.inputs is deprecated. Please use tf.compat.v1.estimator.inputs instead.\n",
      "\n"
     ]
    }
   ],
   "source": [
    "import pandas as pd\n",
    "import tensorflow as tf"
   ]
  },
  {
   "cell_type": "markdown",
   "metadata": {},
   "source": [
    "Step 1: Read raw data"
   ]
  },
  {
   "cell_type": "code",
   "execution_count": 3,
   "metadata": {},
   "outputs": [],
   "source": [
    "with open('pegasus/data/testdata/racing_training_pairs_50.txt', encoding='utf-8', errors='ignore') as f:\n",
    "    lines = f.readlines()"
   ]
  },
  {
   "cell_type": "code",
   "execution_count": 29,
   "metadata": {},
   "outputs": [],
   "source": [
    "inputs = []\n",
    "targets = []\n",
    "\n",
    "index_flag = True\n",
    "input_flag = False\n",
    "target_flag = False\n",
    "for i in range(len(lines)):\n",
    "    if index_flag:\n",
    "        index_flag = False\n",
    "        input_flag = True\n",
    "        target_flag = False\n",
    "    elif input_flag:\n",
    "        inputs.append(lines[i].rstrip(\"\\n\"))\n",
    "        index_flag = False\n",
    "        input_flag = False\n",
    "        target_flag = True\n",
    "    elif target_flag:\n",
    "        targets.append(lines[i].rstrip(\"\\n\"))\n",
    "        index_flag = True\n",
    "        input_flag = False\n",
    "        target_flag = False"
   ]
  },
  {
   "cell_type": "markdown",
   "metadata": {},
   "source": [
    "Step 2: Split train-test"
   ]
  },
  {
   "cell_type": "code",
   "execution_count": 31,
   "metadata": {},
   "outputs": [],
   "source": [
    "import numpy as np"
   ]
  },
  {
   "cell_type": "code",
   "execution_count": 41,
   "metadata": {},
   "outputs": [],
   "source": [
    "inputs = np.array(inputs)\n",
    "targets = np.array(targets)\n",
    "shuffle = np.random.permutation(len(inputs))\n",
    "num_train = int(len(inputs)*0.8)"
   ]
  },
  {
   "cell_type": "code",
   "execution_count": 47,
   "metadata": {},
   "outputs": [],
   "source": [
    "train_inputs = inputs[shuffle[0:num_train+1]]\n",
    "train_targets = targets[shuffle[0:num_train+1]]\n",
    "test_inputs = inputs[shuffle[num_train+1:]]\n",
    "test_targets = targets[shuffle[num_train+1:]]"
   ]
  },
  {
   "cell_type": "code",
   "execution_count": 52,
   "metadata": {},
   "outputs": [
    {
     "data": {
      "text/plain": [
       "array(['The 2020 Winterbottom Stakes will be held on Saturday 28th November at Ascot Racecourse. The race was won in 2019 by Hey Doc. While Western Australian racing is somewhat isolated for most of the calendar year, their once-a-year major carnival is a high-profile event on the national racing stage, with the eyes of the industry turning toward Perth. Western Australias three Group 1 events  the Railway Stakes, the Winterbottom Stakes and the Kingston Town Classic  are the signature races of the carnival. First run in 1953, the 1200-metre Winterbottom Stakes has grown steadily in stature to become Western Australias premier sprint race  and indeed one of the nations sprint highlights. Initially run over seven furlongs (or 1,400 metres), the race was reduced to the truer sprint distance of 1,200 metres in 1994, paving the way for its continued development into a major short-course race. After holding Group 2 status since 1979, the race was upgraded to Group 1 grade in 2011 and is now run on the middle weekend of the three-week Perth Racing Carnival, as a standalone Group 1 race. Additionally, total prizemoney was increased to the magical seven-figure mark - $1 million  in 2015. This ongoing improvement of the race has seen it become a target for many star sprinters on the national stage, reflected by some of the recent winners, which include Miss Andretti (2005), Takeover Target (2008), Ortensia (2009, 2011) and Buffering (2013, 2015).',\n",
       "       'Bandinelli is well and truly over the odds at his current quote of $8.50. His last start victory at Geelong was impressive and he has the benefit of talented young apprentice Lachlan Neindorf in the saddle.',\n",
       "       'Shepard failed to fire at Flemington last start, but he is a much better horse than that effort suggests. His victory before that at Ballarat was very impressive and this drop in class does suit him. He can ride forward from the wide barrier and it would not surprise to see Luke Nolen turn this contest into a genuine staying battle.',\n",
       "       'This is a very open race and it is silly that Doogans Rise is $61. His first-up effort was poor and he is now a nine-year-old, but he showed last campaign that he still has some ability on his day. There are no stars in the field and he is a much better chance than his current odds suggest.',\n",
       "       'The Victoria Racing Clubs Flemington Racecourse is the most famous race course in Australia and has had race meetings run each year since 1840. The track is a short distance from the city centre of Melbourne and has a circumference of 2,312 metres and a straight of 450. Racing is held over distances between 1,000 metres to 3,200. Races of 1,000 metres and 1,200 are started from a chute and are run down the famous Flemington straight. For some distances between 1,400 metres and 2,500 there can be an advantage for horses drawn in an inside barrier.',\n",
       "       'The 2020 George Main Stakes will be held on Saturday 19th September at Randwick Racecourse. The race was won in 2019 by Avilius. The recently renamed Colgate Optic White Stakes is Group 1 mile race contested at Royal Randwick during the Sydney spring carnival. Until very recently it was known as the George Main Stakes being in dedication to former chairman of the Australian Jockey Club (AJC) George Main, who was also a prominent breeder of racehorses. It serves as the major-weight-age lead up and form reference for the Epsom Handicap which is run two weeks later over the same distance at Randwick. It was created in 1945 and was initially contested over 1400m distance for 26 years before being altered to a mile (1600m) race from 1972 onward. History reveals it takes an incredibly talented horse to win this prestigious event. Genuine WFA superstars such as Shoot Out (2012), Kingstown Town (1981-1982), More Joyous (2010) and Lonhro (2003) are among the victors of the race. The late trainer T.J Smith managed to saddle up a record 11 winners of this event during his storied career. His daughter Gai Waterhouse has 3 winners to her name and was the most successful trainer in recent history until Chris Waller passed her total due to the accomplishments of Winx, one of the greatest racehorses of all time. Winx managed to conquer this race an amazing three years in a row (2016-2018), a phenomenal record breaking achievement for the mare. She twice used this race as a launching pad for her Melbourne spring carnival assault remaining undefeated throughout both preps. Her win in the 2017 edition proved to be a phenomenal effort. Around the home turn Winx was many lengths behind and appeared to be failing to respond to the urging of jockey Hugh Bowman. Happy Clapper looked to have sprinted clear before Winx finally found her stride and powered home to win easily with a performance that set a new race record of 1:33.65.',\n",
       "       'The 2021 C F Orr Stakes will be held on Saturday 6th February at Caulfield Racecourse. The race was won in 2020 by Alabama Express. The Group 1 C F Orr Stakes, now run at Caulfield Racecourse toward the beginning of the Melbourne Autumn Racing Carnival, has a long history dating back almost 100 years. The race is named after Charles F. Orr, a Melbourne businessman and former member, board member, chairman and secretary of the Williamstown Racing Club. He first became a member at Williamstown in 1871 and later was chairman of the club for 14 years. The C F Orr Stakes was first held his in honour in 1925. It was run at his home track of Williamstown until 1940, when World War II saw the government take over a number of large sporting venues, including Williamstown Racecourse, for the war effort. The race continued to be run over the next decade, variously at Moonee Valley and Flemington, before moving more permanently to Caulfield in 1949, Sandown in 1966, and then back to Caulfield in 1997. Through a series of club mergers through the years, the Williamstown Racing Club became part of the Melbourne Racing Club, now based at Caulfield Racecourse. The race in now the first Group 1 of the autumn and the calendar year, making it a jumping-off point for many Group 1 campaigns.',\n",
       "       'The 2021 Futurity Stakes will be held on Saturday 20th February at Caulfield Racecourse. The race was won in 2020 by Streets Of Avalon. Blue Diamond Stakes day is the biggest day of the Autumn Carnival for the Melbourne Racing Club, with three big Group 1 races on the card making for a tantalising day at Caulfield for racing fans. One of these is the weight-for-age Futurity Stakes over 1400 metres. A time-honoured race dating all the way back to 1898, the Futurity Stakes is two weeks after the Group 1 CF Orr Stakes, and is now a lead-up race for the new All-Star Mile feature race. Throughout its history the race has been run over 1400 metres, or its pre-decimal equivalent of seven furlongs. There was a short-lived change to this from 2006 until 2010, when it was run over 1600 metres as part of the Asian Mile Challenge series. The rich history of the Futurity Stakes is made absolutely clear by the incredible names which adorn the honour roll. Winners over the year include horses such as Phar Lap (1931), Ajax (1938, 1939, 1940), Bernborough (1946), San Domenico (1952), Lord (1959), Todman (1960), Sky High (1961), Aquanita (1962), Wenona Girl (1963), Gunsynd (1972), Manikato (1979, 1980, 1981, 1983), Campaign King (1986), Vo Rogue (1988), Schillaci (1993, 1995), Typhoon Tracy (2010), More Joyous (2011) and All Too Hard (2013).',\n",
       "       'The 2020 Sir Rupert Clarke Stakes will be held on Saturday 19th September at Caulfield Racecourse. The race was won in 2019 by Begood Toya Mother. The Sir Rupert Clarke Stakes, inaugurated in 1951 as the Invitation Stakes is a Group 1 open handicap run at Caulfield Racecourse. The race was first conquered by Jovial Lad. The race was renamed in 2005 after former chairman of the Victorian Amateur Turf Club, Sir Rupert Clarke who passed away in 2005. Prior to 1994, the race was held on Royal Melbourne Show Day, which was observed on the Thursday in the last full week of September as a public holiday. It remained a Principal Race until 1979 when it was upgraded Group 1 status. The race has established itself as one of the premier Group 1 sprint handicap races in the country. It regularly attracts a big field of high quality of exciting sprinters and fresh, resuming middle distances horses from around Australia. Being both a handicap and early sprint feature in the Spring calendar, it can often unearth young up-and-coming champion sprinters such as Santa Ana Lane who won the race in 2017 as an emerging talent and subsequently cemented himself as Australias best sprinter and a top 5 spot in the Worlds Best Racehorse Rankings.'],\n",
       "      dtype='<U2931')"
      ]
     },
     "execution_count": 52,
     "metadata": {},
     "output_type": "execute_result"
    }
   ],
   "source": [
    "test_targets"
   ]
  },
  {
   "cell_type": "code",
   "execution_count": 51,
   "metadata": {},
   "outputs": [
    {
     "data": {
      "text/plain": [
       "array(['The 2020 Winterbottom Stakes will be held on Saturday 28th November at Ascot Racecourse. The race was won in 2019 by Hey Doc. While Western Australian racing is somewhat isolated for most of the calendar year, their once-a-year major carnival is a high-profile event on the national racing stage, with the eyes of the industry turning toward Perth. Western Australias three Group 1 events  the Railway Stakes, the Winterbottom Stakes and the Kingston Town Classic  are the signature races of the carnival. First run in 1953, the 1200-metre Winterbottom Stakes has grown steadily in stature to become Western Australias premier sprint race  and indeed one of the nations sprint highlights. Initially run over seven furlongs (or 1,400 metres), the race was reduced to the truer sprint distance of 1,200 metres in 1994, paving the way for its continued development into a major short-course race. After holding Group 2 status since 1979, the race was upgraded to Group 1 grade in 2011 and is now run on the middle weekend of the three-week Perth Racing Carnival, as a standalone Group 1 race. Additionally, total prizemoney was increased to the magical seven-figure mark - $1 million  in 2015. This ongoing improvement of the race has seen it become a target for many star sprinters on the national stage, reflected by some of the recent winners, which include Miss Andretti (2005), Takeover Target (2008), Ortensia (2009, 2011) and Buffering (2013, 2015).',\n",
       "       'Bandinelli is well and truly over the odds at his current quote of $8.50. His last start victory at Geelong was impressive and he has the benefit of talented young apprentice Lachlan Neindorf in the saddle.',\n",
       "       'Shepard failed to fire at Flemington last start, but he is a much better horse than that effort suggests. His victory before that at Ballarat was very impressive and this drop in class does suit him. He can ride forward from the wide barrier and it would not surprise to see Luke Nolen turn this contest into a genuine staying battle.',\n",
       "       'This is a very open race and it is silly that Doogans Rise is $61. His first-up effort was poor and he is now a nine-year-old, but he showed last campaign that he still has some ability on his day. There are no stars in the field and he is a much better chance than his current odds suggest.',\n",
       "       'The Victoria Racing Clubs Flemington Racecourse is the most famous race course in Australia and has had race meetings run each year since 1840. The track is a short distance from the city centre of Melbourne and has a circumference of 2,312 metres and a straight of 450. Racing is held over distances between 1,000 metres to 3,200. Races of 1,000 metres and 1,200 are started from a chute and are run down the famous Flemington straight. For some distances between 1,400 metres and 2,500 there can be an advantage for horses drawn in an inside barrier.',\n",
       "       'The 2020 George Main Stakes will be held on Saturday 19th September at Randwick Racecourse. The race was won in 2019 by Avilius. The recently renamed Colgate Optic White Stakes is Group 1 mile race contested at Royal Randwick during the Sydney spring carnival. Until very recently it was known as the George Main Stakes being in dedication to former chairman of the Australian Jockey Club (AJC) George Main, who was also a prominent breeder of racehorses. It serves as the major-weight-age lead up and form reference for the Epsom Handicap which is run two weeks later over the same distance at Randwick. It was created in 1945 and was initially contested over 1400m distance for 26 years before being altered to a mile (1600m) race from 1972 onward. History reveals it takes an incredibly talented horse to win this prestigious event. Genuine WFA superstars such as Shoot Out (2012), Kingstown Town (1981-1982), More Joyous (2010) and Lonhro (2003) are among the victors of the race. The late trainer T.J Smith managed to saddle up a record 11 winners of this event during his storied career. His daughter Gai Waterhouse has 3 winners to her name and was the most successful trainer in recent history until Chris Waller passed her total due to the accomplishments of Winx, one of the greatest racehorses of all time. Winx managed to conquer this race an amazing three years in a row (2016-2018), a phenomenal record breaking achievement for the mare. She twice used this race as a launching pad for her Melbourne spring carnival assault remaining undefeated throughout both preps. Her win in the 2017 edition proved to be a phenomenal effort. Around the home turn Winx was many lengths behind and appeared to be failing to respond to the urging of jockey Hugh Bowman. Happy Clapper looked to have sprinted clear before Winx finally found her stride and powered home to win easily with a performance that set a new race record of 1:33.65.',\n",
       "       'The 2021 C F Orr Stakes will be held on Saturday 6th February at Caulfield Racecourse. The race was won in 2020 by Alabama Express. The Group 1 C F Orr Stakes, now run at Caulfield Racecourse toward the beginning of the Melbourne Autumn Racing Carnival, has a long history dating back almost 100 years. The race is named after Charles F. Orr, a Melbourne businessman and former member, board member, chairman and secretary of the Williamstown Racing Club. He first became a member at Williamstown in 1871 and later was chairman of the club for 14 years. The C F Orr Stakes was first held his in honour in 1925. It was run at his home track of Williamstown until 1940, when World War II saw the government take over a number of large sporting venues, including Williamstown Racecourse, for the war effort. The race continued to be run over the next decade, variously at Moonee Valley and Flemington, before moving more permanently to Caulfield in 1949, Sandown in 1966, and then back to Caulfield in 1997. Through a series of club mergers through the years, the Williamstown Racing Club became part of the Melbourne Racing Club, now based at Caulfield Racecourse. The race in now the first Group 1 of the autumn and the calendar year, making it a jumping-off point for many Group 1 campaigns.',\n",
       "       'The 2021 Futurity Stakes will be held on Saturday 20th February at Caulfield Racecourse. The race was won in 2020 by Streets Of Avalon. Blue Diamond Stakes day is the biggest day of the Autumn Carnival for the Melbourne Racing Club, with three big Group 1 races on the card making for a tantalising day at Caulfield for racing fans. One of these is the weight-for-age Futurity Stakes over 1400 metres. A time-honoured race dating all the way back to 1898, the Futurity Stakes is two weeks after the Group 1 CF Orr Stakes, and is now a lead-up race for the new All-Star Mile feature race. Throughout its history the race has been run over 1400 metres, or its pre-decimal equivalent of seven furlongs. There was a short-lived change to this from 2006 until 2010, when it was run over 1600 metres as part of the Asian Mile Challenge series. The rich history of the Futurity Stakes is made absolutely clear by the incredible names which adorn the honour roll. Winners over the year include horses such as Phar Lap (1931), Ajax (1938, 1939, 1940), Bernborough (1946), San Domenico (1952), Lord (1959), Todman (1960), Sky High (1961), Aquanita (1962), Wenona Girl (1963), Gunsynd (1972), Manikato (1979, 1980, 1981, 1983), Campaign King (1986), Vo Rogue (1988), Schillaci (1993, 1995), Typhoon Tracy (2010), More Joyous (2011) and All Too Hard (2013).',\n",
       "       'The 2020 Sir Rupert Clarke Stakes will be held on Saturday 19th September at Caulfield Racecourse. The race was won in 2019 by Begood Toya Mother. The Sir Rupert Clarke Stakes, inaugurated in 1951 as the Invitation Stakes is a Group 1 open handicap run at Caulfield Racecourse. The race was first conquered by Jovial Lad. The race was renamed in 2005 after former chairman of the Victorian Amateur Turf Club, Sir Rupert Clarke who passed away in 2005. Prior to 1994, the race was held on Royal Melbourne Show Day, which was observed on the Thursday in the last full week of September as a public holiday. It remained a Principal Race until 1979 when it was upgraded Group 1 status. The race has established itself as one of the premier Group 1 sprint handicap races in the country. It regularly attracts a big field of high quality of exciting sprinters and fresh, resuming middle distances horses from around Australia. Being both a handicap and early sprint feature in the Spring calendar, it can often unearth young up-and-coming champion sprinters such as Santa Ana Lane who won the race in 2017 as an emerging talent and subsequently cemented himself as Australias best sprinter and a top 5 spot in the Worlds Best Racehorse Rankings.'],\n",
       "      dtype='<U2931')"
      ]
     },
     "execution_count": 51,
     "metadata": {},
     "output_type": "execute_result"
    }
   ],
   "source": [
    "test_inputs"
   ]
  },
  {
   "cell_type": "markdown",
   "metadata": {},
   "source": [
    "Step 3: Save to tfrecord"
   ]
  },
  {
   "cell_type": "code",
   "execution_count": 48,
   "metadata": {},
   "outputs": [],
   "source": [
    "with tf.io.TFRecordWriter(\"pegasus/data/testdata/racing_train.tfrecord\") as writer:\n",
    "    for i in range(len(train_input)):\n",
    "        inputs = train_inputs[i]\n",
    "        targets = train_targets[i]\n",
    "        example = tf.train.Example(\n",
    "            features=tf.train.Features(\n",
    "                feature={\n",
    "                    \"inputs\": tf.train.Feature(bytes_list=tf.train.BytesList(value=[inputs.encode('utf-8')])),\n",
    "                    \"targets\": tf.train.Feature(bytes_list=tf.train.BytesList(value=[targets.encode('utf-8')])),\n",
    "                }\n",
    "            )\n",
    "        )\n",
    "        writer.write(example.SerializeToString())"
   ]
  },
  {
   "cell_type": "code",
   "execution_count": 49,
   "metadata": {},
   "outputs": [],
   "source": [
    "with tf.io.TFRecordWriter(\"pegasus/data/testdata/racing_test.tfrecord\") as writer:\n",
    "    for i in range(len(test_input)):\n",
    "        inputs = test_inputs[i]\n",
    "        targets = test_targets[i]\n",
    "        example = tf.train.Example(\n",
    "            features=tf.train.Features(\n",
    "                feature={\n",
    "                    \"inputs\": tf.train.Feature(bytes_list=tf.train.BytesList(value=[inputs.encode('utf-8')])),\n",
    "                    \"targets\": tf.train.Feature(bytes_list=tf.train.BytesList(value=[targets.encode('utf-8')])),\n",
    "                }\n",
    "            )\n",
    "        )\n",
    "        writer.write(example.SerializeToString())"
   ]
  }
 ],
 "metadata": {
  "kernelspec": {
   "display_name": "conda_tensorflow_p36",
   "language": "python",
   "name": "conda_tensorflow_p36"
  },
  "language_info": {
   "codemirror_mode": {
    "name": "ipython",
    "version": 3
   },
   "file_extension": ".py",
   "mimetype": "text/x-python",
   "name": "python",
   "nbconvert_exporter": "python",
   "pygments_lexer": "ipython3",
   "version": "3.6.10"
  }
 },
 "nbformat": 4,
 "nbformat_minor": 4
}
